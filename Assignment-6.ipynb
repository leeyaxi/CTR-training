{
 "cells": [
  {
   "cell_type": "markdown",
   "id": "7eefee55-e815-4075-8ba7-cf6e31b837d1",
   "metadata": {},
   "source": [
    "<div class=\"alert alert-danger\">\n",
    "    <h3>NOTE</h3>\n",
    "    <p>Before you submit this assignment, <strong>make sure everything runs as expected</strong>:</p>\n",
    "    <ol>\n",
    "        <li><strong>restart the kernel</strong> (in the menubar, select <strong>Kernel → Restart</strong>)\n",
    "        <li><strong>run all cells</strong> (in the menubar, select <strong>Cell → Run All</strong>)</li>\n",
    "    </ol>\n",
    "    <p>Make sure to complete every cell that states \"<strong><TT>YOUR CODE IN THIS CELL</TT></strong>\".</p>\n",
    "</div>"
   ]
  },
  {
   "cell_type": "markdown",
   "id": "5105bf91-4c5b-4a2c-8d5d-a18980c36c65",
   "metadata": {},
   "source": [
    "# Assignment #6\n",
    "\n",
    "<font color=red>**Due**:<font color=black> Nov 11 11:59 PM"
   ]
  },
  {
   "cell_type": "markdown",
   "id": "304db598-86a5-47c4-b4a8-989a5379a9fe",
   "metadata": {},
   "source": [
    "<font color=red>**NOTE:**<font color=black> This assignment is intended to be completed quickly.\n",
    "    \n",
    "Please check the **Discord** server for the course under the `#Assignment-6` channel for help with completing this assignment."
   ]
  },
  {
   "cell_type": "markdown",
   "id": "2a84fcac-e085-4239-a956-a373e0e16766",
   "metadata": {},
   "source": [
    "---\n",
    "<font color=blue>\n",
    "    \n",
    "#### OBJECTIVES\n",
    "    \n",
    "<font color=black>\n",
    "    \n",
    "* evaluation\n",
    "* algorithm & workflow design"
   ]
  },
  {
   "cell_type": "markdown",
   "id": "83eccae6-4f88-4853-ae32-b1d0553560e6",
   "metadata": {
    "tags": []
   },
   "source": [
    "---\n",
    "\n",
    "<font color=darkred>\n",
    "    \n",
    "# QUESTION: Algorithm/Workflow Design\n",
    "    \n",
    "<font color=black>"
   ]
  },
  {
   "cell_type": "markdown",
   "id": "61b39f97-6e40-4ca2-be1a-39553aecbeee",
   "metadata": {
    "tags": []
   },
   "source": [
    "Write out the series of steps to determine the topic of a web page."
   ]
  },
  {
   "cell_type": "markdown",
   "id": "63cf3f96-6619-41ba-9f04-dddf3c870d2d",
   "metadata": {},
   "source": [
    "<font color=gray>*YOUR DISCUSSION HERE*<font color=black>\n",
    "\n",
    "1、网页标题+内容提取：采用BeautifulSoup包解析HTML中文本内容\n",
    "\n",
    "##### 网页文本主题词提取：可选TF-IDF、TextRank、LDA主题模型 (TF-IDF即可)\n",
    "##### 可参考https://zhuanlan.zhihu.com/p/84732006\n",
    "##### sklean-TfidfVectorizer参考https://scikit-learn.org/stable/modules/generated/sklearn.feature_extraction.text.TfidfVectorizer.html\n",
    "\n",
    "2、文本内容主题词提取\n",
    "\n",
    "* 分词\n",
    "* 去停用词\n",
    "* sklean-TfidfVectorizer 对去除停用词的文本构建tf-idf词频矩阵\n",
    "* 筛选出文本词频> threshold的词语作为主题词"
   ]
  },
  {
   "cell_type": "markdown",
   "id": "1daa0c10-75ad-4dff-9a78-3b3e73a882e8",
   "metadata": {},
   "source": [
    "<font color=#B6321C>\n",
    "    \n",
    "### RUBRIC\n",
    "\n",
    "<font color=black>\n",
    "\n",
    "A breakdown of the marking for this task:\n",
    "* <font color=#B6321C>[**5 marks**]<font color=black> the number of steps in your workflow\n",
    "* <font color=#B6321C>[**5 marks**]<font color=black> the granularity/detail of each step of the workflow\n",
    "* <font color=#B6321C>[**5 marks**]<font color=black> being able to anticipate potential problems, edge/corner cases, etc.\n",
    "\n"
   ]
  },
  {
   "cell_type": "markdown",
   "id": "8eb96f9c-c60e-4110-893f-8644e015ca4c",
   "metadata": {},
   "source": [
    "---\n",
    "\n",
    "\n",
    "<font color=darkred>\n",
    "    \n",
    "# QUESTION: Evaluation\n",
    "\n",
    "<font color=black>\n",
    "    \n",
    "\n",
    "The task is *inserting punctuation correctly*, specifically *periods*.\n",
    "\n",
    "Following test data given to models to be evaluated:<font color=darkred>\n",
    "\n",
    "    My name is Mrs Walls Today is the first day of November And I want to tell you about the upcoming winter"
   ]
  },
  {
   "cell_type": "markdown",
   "id": "7908e72b-6d1e-4c5e-a8b9-4064e4edf832",
   "metadata": {},
   "source": [
    "<font color=black>\n",
    "The solution is:<font color=darkred>\n",
    "\n",
    "    My name is Mrs. Walls. Today is the first day of November. And I want to tell you about the upcoming winter.\n",
    "\n",
    "<font color=black>"
   ]
  },
  {
   "cell_type": "markdown",
   "id": "4254ae5d-c4dc-4577-99c6-73beffe9ea51",
   "metadata": {},
   "source": [
    "\\\n",
    "<font color=purple>Model$_1$<font color=black> submits the following as its answer. It correctly identifies the end of a sentence but cannot identify punctuation belonging to acronyms or abbreviations (e.g., *Mr.*, *U.S.A.*):\n",
    "\n",
    "    My name is Mrs Walls. Today is the first day of November. And I want to tell you about the upcoming winter."
   ]
  },
  {
   "cell_type": "code",
   "execution_count": null,
   "id": "20a3ca18",
   "metadata": {
    "vscode": {
     "languageId": "plaintext"
    }
   },
   "outputs": [],
   "source": [
    "## 感觉可以用大写字母的出现进行句首句尾的识别, 遇到人名例如Mrs后面的加特殊判断\n",
    "name_dic = [\"Mrs\", \"Ms\"]\n",
    "person_dic = [\"I\", \"she\", \"he\"]\n",
    "date = [\"January\", \"February\", \"March\", \"April\", \"May\", \"June\", \"July\", \"August\", \"September\", \"October\", \"November\", \"December\"]\n",
    "input_sent = \"My name is Mrs Walls Today is the first day of November And I want to tell you about the upcoming winter\"\n",
    "\n",
    "word_list = input_sent.split(\" \")\n",
    "res = []\n",
    "for idx, word in enumerate(word_list):\n",
    "    if word.istitle(): #判断首字母大写\n",
    "        if idx - 1 >= 0 and word_list[idx - 1] not in name_dic and word not in person_dic and word not in date:  #当前首字母大写的word不能是名字、日期和人称\n",
    "            word = word + \".\"\n",
    "    res.append(word)\n",
    "return \" \".join(res)"
   ]
  },
  {
   "cell_type": "markdown",
   "id": "a77259bb-8b83-4b28-8e1c-15ee51a096a2",
   "metadata": {},
   "source": [
    "<font color=purple>Model$_2$<font color=black> submits the following as its answer. It inserts a period only after the last word in the text:\n",
    "\n",
    "    My name is Mrs Walls Today is the first day of November And I want to tell you about the upcoming winter."
   ]
  },
  {
   "cell_type": "code",
   "execution_count": null,
   "id": "61c2ec01",
   "metadata": {
    "vscode": {
     "languageId": "plaintext"
    }
   },
   "outputs": [],
   "source": [
    "## 感觉可以用大写字母的出现进行句首句尾的识别, 遇到人名例如Mrs后面的加特殊判断\n",
    "input_sent = \"My name is Mrs Walls Today is the first day of November And I want to tell you about the upcoming winter\"\n",
    "\n",
    "word_list = input_sent.split(\" \")\n",
    "res = []\n",
    "word_list = input_sent.split(\" \")\n",
    "res = []\n",
    "for idx, word in enumerate(word_list):\n",
    "    if idx == len(word_list) - 1:\n",
    "        word = word + \".\"\n",
    "    res.append(word)\n",
    "return \" \".join(res)      "
   ]
  },
  {
   "cell_type": "markdown",
   "id": "565c4fa3-78aa-4dc4-b803-03b00a29f350",
   "metadata": {},
   "source": [
    "<font color=purple>Model$_3$<font color=black> submits the following as its answer. It doesn't insert any punctuation:\n",
    "\n",
    "    My name is Mrs Walls Today is the first day of November And I want to tell you about the upcoming winter"
   ]
  },
  {
   "cell_type": "code",
   "execution_count": null,
   "id": "49f9cefa",
   "metadata": {
    "vscode": {
     "languageId": "plaintext"
    }
   },
   "outputs": [],
   "source": [
    "## 感觉可以用大写字母的出现进行句首句尾的识别, 遇到人名例如Mrs后面的加特殊判断\n",
    "input_sent = \"My name is Mrs Walls Today is the first day of November And I want to tell you about the upcoming winter\"\n",
    "\n",
    "word_list = input_sent.split(\" \")\n",
    "res = []\n",
    "for idx, word in enumerate(word_list):\n",
    "    res.append(word)       \n",
    "return \" \".join(res)"
   ]
  },
  {
   "cell_type": "markdown",
   "id": "150d4696-5dbb-402a-8e7a-61fabd9aabc4",
   "metadata": {},
   "source": [
    "<font color=purple>Model$_4$<font color=black> submits the following as its answer. It inserts a period between every word pair:\n",
    "\n",
    "    My. name. is. Mrs. Walls. Today. is. the. first. day. of. November. And. I. want. to. tell. you. about. the. upcoming. winter."
   ]
  },
  {
   "cell_type": "code",
   "execution_count": null,
   "id": "be48bc0c",
   "metadata": {
    "vscode": {
     "languageId": "plaintext"
    }
   },
   "outputs": [],
   "source": [
    "input_sent = \"My name is Mrs Walls Today is the first day of November And I want to tell you about the upcoming winter\"\n",
    "\n",
    "word_list = input_sent.split(\" \")\n",
    "res = []\n",
    "for idx, word in enumerate(word_list):\n",
    "    word = word + \".\"\n",
    "    res.append(word)\n",
    "return \" \".join(res)"
   ]
  },
  {
   "cell_type": "markdown",
   "id": "8ca6e4b7-1373-45da-96c8-e4a933328ef7",
   "metadata": {},
   "source": [
    "Evaluate the models based on the following metrics/rubrics (for each rubric evaluate all 4 models):\n",
    "* there are 4 periods to be inserted. How many of the 4 periods were correctly inserted? (this evaluation is out of 4)\n",
    "* a period can be inserted in the spaces between each word pair and at the end of the text (there are 22 spaces). How many of the 22 spaces were correct? (this evaluation is out of 22)\n",
    "* there are 18 spaces where periods are **not** to be inserted. How many of the 18 spaces were correct in *not* having a period inserted? (this evaluation is out of 18)\n",
    "\n",
    "Discuss the performance of the four models based on the three rubrics."
   ]
  },
  {
   "cell_type": "markdown",
   "id": "5a25f5a3-b59e-467c-9c1b-fb1cdb588a33",
   "metadata": {},
   "source": [
    "Compute each model's **Precision**, **Recall**, and **F-Score** (refer to **Chapter 4.7** from the *Jurafsky & Martin* textbook for their definitions and example calculations).\n",
    "\n",
    "Create the **confusion matrix** comparing the **model's output** (predicted labels) and the **gold standard labels** (actual and correct labels from our dataset)."
   ]
  },
  {
   "cell_type": "markdown",
   "id": "1204ef0e-f80f-43af-a833-2ad3a32b24e3",
   "metadata": {},
   "source": [
    "<font color=gray>*YOUR DISCUSSION HERE*<font color=black>\n",
    "\n",
    "混淆矩阵参考:https://blog.csdn.net/hfutdog/article/details/88085878\n",
    "其实就是用于计算presicion、recall以及F1\n",
    "\n",
    "true_sent = My name is Mrs Walls. Today is the first day of November. And I want to tell you about the upcoming winter.\n",
    "\n",
    "#### 22个空格中在第五个位置-也就是Walls后面的空格需要加标点。也就是1，12以及22位置的1标签就是这么来的\n",
    "y_true = [0, 0, 0, 0, 1, 0, 0, 0, 0, 0, 0, 1, 0, 0, 0, 0, 0, 0, 0, 0, 0, 1] \n",
    "\n",
    "#### 假设是model1的res，也可以抽象成上面y_true的格式\n",
    "y_pred = [0, 0, 0, 0, 1, 0, 0, 0, 0, 0, 0, 1, 0, 0, 0, 0, 0, 0, 0, 0, 0, 1]\n",
    "\n",
    "#### 混淆矩阵也可以用sklearn的库构建 具体可参考https://zhuanlan.zhihu.com/p/73558315\n",
    "from sklearn.metrics import confusion_matrix\n",
    "\n",
    "\n",
    "#### 也可以直接调用precision、recall和f1的库\n",
    "precision, recall, f1 = sklearn.metrics.precision_recall_fscore_support(y_true, y_pred, average=\"binary\") # average=\"binary\"只针对二分类任务，也就是01任务\n",
    "\n",
    "例如model1"
   ]
  },
  {
   "cell_type": "markdown",
   "id": "ba36072b-7b7f-4538-b5ec-f1f12ed563db",
   "metadata": {},
   "source": [
    "<font color=#B6321C>\n",
    "    \n",
    "### RUBRIC\n",
    "\n",
    "<font color=black>\n",
    "\n",
    "A breakdown of the marking for this task:\n",
    "* <font color=#B6321C>[**10 marks**]<font color=black> evaluation of models and discussion based on the three rubrics\n",
    "* <font color=#B6321C>[**10 marks**]<font color=black> coorectly calculating precision, recall, and F-score\n"
   ]
  }
 ],
 "metadata": {
  "kernelspec": {
   "display_name": "Python 3 (ipykernel)",
   "language": "python",
   "name": "python3"
  },
  "language_info": {
   "codemirror_mode": {
    "name": "ipython",
    "version": 3
   },
   "file_extension": ".py",
   "mimetype": "text/x-python",
   "name": "python",
   "nbconvert_exporter": "python",
   "pygments_lexer": "ipython3",
   "version": "3.9.12"
  }
 },
 "nbformat": 4,
 "nbformat_minor": 5
}
