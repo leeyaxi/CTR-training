{
 "cells": [
  {
   "cell_type": "markdown",
   "id": "7eefee55-e815-4075-8ba7-cf6e31b837d1",
   "metadata": {},
   "source": [
    "<div class=\"alert alert-danger\">\n",
    "    <h3>NOTE</h3>\n",
    "    <p>Before you submit this assignment, <strong>make sure everything runs as expected</strong>:</p>\n",
    "    <ol>\n",
    "        <li><strong>restart the kernel</strong> (in the menubar, select <strong>Kernel → Restart</strong>)\n",
    "        <li><strong>run all cells</strong> (in the menubar, select <strong>Cell → Run All</strong>)</li>\n",
    "    </ol>\n",
    "    <p>Make sure to complete every cell that states \"<strong><TT>YOUR CODE IN THIS CELL</TT></strong>\".</p>\n",
    "</div>"
   ]
  },
  {
   "cell_type": "markdown",
   "id": "2e1ccedc-832e-4d8d-930c-5702b3c9beeb",
   "metadata": {},
   "source": [
    "\n",
    "---\n",
    "\n",
    "**Name:** <font color=black> Lei Xiao\n",
    "    \n",
    "**Student ID:** <font color=black> 300151231\n",
    "\n",
    "---\n"
   ]
  },
  {
   "cell_type": "markdown",
   "id": "5105bf91-4c5b-4a2c-8d5d-a18980c36c65",
   "metadata": {},
   "source": [
    "# Assignment #7\n",
    "\n",
    "<font color=red>**Due**:<font color=black> Nov 15, 2022 11:59 PM"
   ]
  },
  {
   "cell_type": "markdown",
   "id": "ab64417b-716c-4638-81be-cbb6a09dd60c",
   "metadata": {},
   "source": [
    "<font color=red>**NOTE:**<font color=black> Please check the **Discord** server for the course under the `#Assignment-7` channel for questions, tips, and tricks in completing this assignment."
   ]
  },
  {
   "cell_type": "markdown",
   "id": "2a84fcac-e085-4239-a956-a373e0e16766",
   "metadata": {},
   "source": [
    "---\n",
    "<font color=blue>\n",
    "    \n",
    "#### OBJECTIVES\n",
    "    \n",
    "<font color=black>\n",
    "    \n",
    "* vector semantics\n",
    "* term-document matrix\n",
    "* tf-idf"
   ]
  },
  {
   "cell_type": "markdown",
   "id": "04cb99cd-870b-4aff-a20b-4250e6f9b73b",
   "metadata": {
    "tags": []
   },
   "source": [
    "---\n"
   ]
  },
  {
   "cell_type": "markdown",
   "id": "bc7b674c-9a8c-42ef-b6f2-e2ab170ec59b",
   "metadata": {
    "tags": []
   },
   "source": [
    "Use the following text data for the below assignment questions."
   ]
  },
  {
   "cell_type": "code",
   "execution_count": 16,
   "id": "f468f867-8afc-4e73-85ee-a235ceafe2df",
   "metadata": {
    "tags": []
   },
   "outputs": [],
   "source": [
    "text_data = \"\"\"Ten European football associations including those of England and Wales say \"human rights are universal and apply everywhere\" after Fifa asked nations competing at the Qatar World Cup to \"now focus on the football\". The world governing body wrote to all 32 teams following a controversial build-up to the tournament, which starts on 20 November. Host Qatar has been criticised for its stance on same-sex relationships, its human rights record and its treatment of migrant workers. The Fifa letter was criticised by Human Rights Watch, Amnesty International and LGBT+ campaigners in England and Wales. While acknowledging the \"significant progress\" made by Qatar, a joint statement issued by members of the Uefa Working Group on human rights and labour rights said it would \"continue to press\" Fifa for answers on outstanding issues surrounding migrant workers.\n",
    "\n",
    "Ten days ago Xi Jinping walked out in front of the world's media - depleted somewhat by his government's growing intolerance of foreign reporters - as the most powerful Chinese leader in decades. A tradition that limited his recent predecessors to two terms had been broken. And third term in hand, he had cemented his power over China, perhaps indefinitely. But even as Mr Xi's grip tightens at home, on the international stage the situation has rarely looked more unsettled. The more the Communist Party leader has reinforced China's authoritarian model, the more he has challenged a defining assumption of our age of globalisation - as China got richer, it would become freer.\n",
    "\n",
    "Twitter staff have started to post online that they believe they have lost their jobs, ahead of an announcement by the company later on Friday. The social media giant says it will inform its staff whether they are still employed after Elon Musk's takeover. Employees are tweeting using the hashtag #LoveWhereYouWorked and a saluting emoji to say they are leaving. Yash Agarwal, who worked in public policy, said it was \"the greatest privilege ever\" to work for Twitter. In an internal email, the social media company said the cuts are \"an effort to place Twitter on a healthy path\". The firm added that its offices would be temporarily closed, with staff unable to enter the building until they know if they have lost their jobs. The multi-billionaire will be Twitter's chief executive after buying the firm last week in a $44bn (£39.3bn) deal.\n",
    "\n",
    "The government of Ontario has passed a controversial law that could impose a fine of C$4,000 ($2,900; £2,600) a day for workers who go on strike. To pass the bill, the government invoked a special clause that allows it to bypass constitutional challenges. The Canadian Union of Public Employees (CUPE) responded with defiance, saying workers would strike, regardless. The legislation would also allow for a C$500,000 a day fine against the union itself. CUPE represents some 55,000 education workers, including educational assistants, custodians and administrative staff. The union originally asked for an 11.7% annual pay rise for its employees across the board, but sources told local media the ask had been dropped to roughly 6% during last-minute negotiations.\n",
    "\"\"\"\n",
    "\n",
    "#print(text_data)"
   ]
  },
  {
   "cell_type": "markdown",
   "id": "6e8060e4-35d6-47db-8330-cadf6b04e540",
   "metadata": {
    "tags": []
   },
   "source": [
    "---\n",
    "\n",
    "<font color=darkred>\n",
    "    \n",
    "# QUESTION: Vector Representations Of Semantics\n",
    "    \n",
    "<font color=black>"
   ]
  },
  {
   "cell_type": "markdown",
   "id": "4e3d6e0a-96f8-44d9-aa16-1462ecf51190",
   "metadata": {
    "tags": []
   },
   "source": [
    "Assume the unit we will be using for a **document** is the **paragraph**."
   ]
  },
  {
   "cell_type": "markdown",
   "id": "dfa91dce-04f1-48ae-9251-40b36e13008f",
   "metadata": {
    "tags": []
   },
   "source": [
    "Display the **term-document matrix** for `text_data` as a table.\\\n",
    "You may exclude punctuation and function words from consideration as *terms*.\\\n",
    "The documents can be named `document1`, `document2`, `document3`, etc."
   ]
  },
  {
   "cell_type": "code",
   "execution_count": 17,
   "id": "5d29d0a2-7892-45bd-a874-466347b07466",
   "metadata": {},
   "outputs": [
    {
     "name": "stdout",
     "output_type": "stream",
     "text": [
      "   117  20  2600  2900  32  393bn  44bn  55000  acknowledging  added  ...  \\\n",
      "0    0   1     0     0   1      0     0      0              1      0  ...   \n",
      "1    0   0     0     0   0      0     0      0              0      0  ...   \n",
      "2    0   0     0     0   0      0     0      0              0      0  ...   \n",
      "3    0   0     0     0   0      0     0      0              0      0  ...   \n",
      "4    0   0     0     0   0      1     1      0              0      1  ...   \n",
      "5    0   0     0     0   0      0     0      0              0      0  ...   \n",
      "6    1   0     1     1   0      0     0      1              0      0  ...   \n",
      "7    0   0     0     0   0      0     0      0              0      0  ...   \n",
      "\n",
      "   work  worked  workers  working  world  worlds  wrote  xi  xis  yash  \n",
      "0     0       0        2        1      2       0      1   0    0     0  \n",
      "1     0       0        0        0      0       0      0   0    0     0  \n",
      "2     0       0        0        0      0       1      0   1    1     0  \n",
      "3     0       0        0        0      0       0      0   0    0     0  \n",
      "4     1       1        0        0      0       0      0   0    0     1  \n",
      "5     0       0        0        0      0       0      0   0    0     0  \n",
      "6     0       0        3        0      0       0      0   0    0     0  \n",
      "7     0       0        0        0      0       0      0   0    0     0  \n",
      "\n",
      "[8 rows x 230 columns]\n"
     ]
    }
   ],
   "source": [
    "import pandas as pd\n",
    "from sklearn.feature_extraction.text import CountVectorizer\n",
    "import string\n",
    "\n",
    "for c in string.punctuation:\n",
    "    text_data = text_data.replace(c,\"\")\n",
    "countvec = CountVectorizer(analyzer='word',stop_words='english')\n",
    "text_lst = text_data.split(\"\\n\")\n",
    "x = countvec.fit_transform(text_lst)\n",
    "\n",
    "df = pd.DataFrame(x.toarray(), columns=countvec.get_feature_names_out())\n",
    "print(df)"
   ]
  },
  {
   "cell_type": "markdown",
   "id": "fbbf35a0-bdf3-40e2-9407-1cf74abcea4e",
   "metadata": {},
   "source": [
    "Using the **term-document matrix**, calculate the **cosine similarity** scores for the following words:\n",
    "* Ontario\n",
    "* Twitter\n",
    "* China\n",
    "* Xi\n",
    "* Qatar\n",
    "* government"
   ]
  },
  {
   "cell_type": "code",
   "execution_count": 30,
   "id": "16166ea2-5fc7-49c9-8c64-89988ee1aec7",
   "metadata": {},
   "outputs": [],
   "source": [
    "from sklearn.metrics.pairwise import cosine_similarity\n",
    "\n"
   ]
  },
  {
   "cell_type": "markdown",
   "id": "63374146-df91-4046-928c-ba5e66e65ff7",
   "metadata": {},
   "source": [
    "<font color=#B6321C>\n",
    "    \n",
    "### RUBRIC\n",
    "\n",
    "<font color=black>\n",
    "\n",
    "A breakdown of the marking for this task:\n",
    "* <font color=#B6321C>[**5 marks**]<font color=black> term-document matrix correctly calculated\n",
    "* <font color=#B6321C>[**5 marks**]<font color=black> cosine similarities correctly calculated\n"
   ]
  },
  {
   "cell_type": "markdown",
   "id": "21e79ffb-9434-49c0-a376-bab8b1a05a9b",
   "metadata": {},
   "source": [
    "---\n",
    "\n",
    "<font color=darkred>\n",
    "    \n",
    "# QUESTION: tf-idf\n",
    "    \n",
    "<font color=black>"
   ]
  },
  {
   "cell_type": "markdown",
   "id": "2ad50b77-9fd4-420f-b9f0-f3a8109749d7",
   "metadata": {},
   "source": [
    "Display the **tf-idf** for `text_data` as a table.\\\n",
    "You may exclude punctuation and function words from consideration as *terms*.\\\n",
    "The documents can be named `document1`, `document2`, `document3`, etc."
   ]
  },
  {
   "cell_type": "code",
   "execution_count": 11,
   "id": "db38241a-9212-4c37-9ca4-1ca74e062c3a",
   "metadata": {},
   "outputs": [
    {
     "name": "stdout",
     "output_type": "stream",
     "text": [
      "[[0.         0.06808982 0.         ... 0.         0.         0.        ]\n",
      " [0.         0.         0.         ... 0.         0.         0.        ]\n",
      " [0.         0.         0.         ... 0.08296849 0.08296849 0.        ]\n",
      " ...\n",
      " [0.         0.         0.         ... 0.         0.         0.        ]\n",
      " [0.08075949 0.         0.08075949 ... 0.         0.         0.        ]\n",
      " [0.         0.         0.         ... 0.         0.         0.        ]]\n"
     ]
    }
   ],
   "source": [
    "from sklearn.feature_extraction.text import TfidfVectorizer\n",
    "tfidf_vec = TfidfVectorizer()\n",
    "tfidf_matrix = tfidf_vec.fit_transform(text_lst)\n",
    "\n",
    "print(tfidf_matrix.toarray())"
   ]
  },
  {
   "cell_type": "markdown",
   "id": "ac7bdcf0-297a-419f-9895-992be248f9c3",
   "metadata": {},
   "source": [
    "<font color=#B6321C>\n",
    "    \n",
    "### RUBRIC\n",
    "\n",
    "<font color=black>\n",
    "\n",
    "A breakdown of the marking for this task:\n",
    "* <font color=#B6321C>[**10 marks**]<font color=black> tf-idf correctly calculated\n"
   ]
  },
  {
   "cell_type": "markdown",
   "id": "139f59a5-0a8e-475e-a78b-80edfd5ab73b",
   "metadata": {},
   "source": [
    "---\n",
    "\n",
    "<font color=darkred>\n",
    "    \n",
    "# QUESTION: PMI\n",
    "    \n",
    "<font color=black>"
   ]
  },
  {
   "cell_type": "markdown",
   "id": "bb23a78f-afff-4a0b-a392-b61d43cd0acb",
   "metadata": {},
   "source": [
    "Display the **PMI** for `text_data` as a table.\\\n",
    "You may exclude punctuation and function words from consideration as *terms*.\\\n",
    "The documents can be named `document1`, `document2`, `document3`, etc."
   ]
  },
  {
   "cell_type": "code",
   "execution_count": null,
   "id": "19a5ec9e-49ae-4e95-8c24-7f22ef7c810a",
   "metadata": {},
   "outputs": [],
   "source": [
    "\n",
    "\n"
   ]
  },
  {
   "cell_type": "markdown",
   "id": "fb9c51c3-4411-4aab-9615-bce2e30ccf38",
   "metadata": {},
   "source": [
    "<font color=#B6321C>\n",
    "    \n",
    "### RUBRIC\n",
    "\n",
    "<font color=black>\n",
    "\n",
    "A breakdown of the marking for this task:\n",
    "* <font color=#B6321C>[**10 marks**]<font color=black> PMI correctly calculated\n"
   ]
  }
 ],
 "metadata": {
  "kernelspec": {
   "display_name": "Python 3 (ipykernel)",
   "language": "python",
   "name": "python3"
  },
  "language_info": {
   "codemirror_mode": {
    "name": "ipython",
    "version": 3
   },
   "file_extension": ".py",
   "mimetype": "text/x-python",
   "name": "python",
   "nbconvert_exporter": "python",
   "pygments_lexer": "ipython3",
   "version": "3.9.12"
  }
 },
 "nbformat": 4,
 "nbformat_minor": 5
}
