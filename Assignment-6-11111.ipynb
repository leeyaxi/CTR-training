{
 "cells": [
  {
   "cell_type": "markdown",
   "id": "7eefee55-e815-4075-8ba7-cf6e31b837d1",
   "metadata": {},
   "source": [
    "<div class=\"alert alert-danger\">\n",
    "    <h3>NOTE</h3>\n",
    "    <p>Before you submit this assignment, <strong>make sure everything runs as expected</strong>:</p>\n",
    "    <ol>\n",
    "        <li><strong>restart the kernel</strong> (in the menubar, select <strong>Kernel → Restart</strong>)\n",
    "        <li><strong>run all cells</strong> (in the menubar, select <strong>Cell → Run All</strong>)</li>\n",
    "    </ol>\n",
    "    <p>Make sure to complete every cell that states \"<strong><TT>YOUR CODE IN THIS CELL</TT></strong>\".</p>\n",
    "</div>"
   ]
  },
  {
   "cell_type": "markdown",
   "id": "5105bf91-4c5b-4a2c-8d5d-a18980c36c65",
   "metadata": {},
   "source": [
    "# Assignment #6\n",
    "\n",
    "<font color=red>**Due**:<font color=black> Nov 11 11:59 PM"
   ]
  },
  {
   "cell_type": "markdown",
   "id": "304db598-86a5-47c4-b4a8-989a5379a9fe",
   "metadata": {},
   "source": [
    "<font color=red>**NOTE:**<font color=black> This assignment is intended to be completed quickly.\n",
    "    \n",
    "Please check the **Discord** server for the course under the `#Assignment-6` channel for help with completing this assignment."
   ]
  },
  {
   "cell_type": "markdown",
   "id": "2a84fcac-e085-4239-a956-a373e0e16766",
   "metadata": {},
   "source": [
    "---\n",
    "<font color=blue>\n",
    "    \n",
    "#### OBJECTIVES\n",
    "    \n",
    "<font color=black>\n",
    "    \n",
    "* evaluation\n",
    "* algorithm & workflow design"
   ]
  },
  {
   "cell_type": "markdown",
   "id": "83eccae6-4f88-4853-ae32-b1d0553560e6",
   "metadata": {
    "tags": []
   },
   "source": [
    "---\n",
    "\n",
    "<font color=darkred>\n",
    "    \n",
    "# QUESTION: Algorithm/Workflow Design\n",
    "    \n",
    "<font color=black>"
   ]
  },
  {
   "cell_type": "markdown",
   "id": "61b39f97-6e40-4ca2-be1a-39553aecbeee",
   "metadata": {
    "tags": []
   },
   "source": [
    "Write out the series of steps to determine the topic of a web page."
   ]
  },
  {
   "cell_type": "markdown",
   "id": "63cf3f96-6619-41ba-9f04-dddf3c870d2d",
   "metadata": {},
   "source": [
    "<font color=blue>**Answer**: <br>\n",
    "    For web theme extraction, I think it is divided into two main parts. The first part is to parse the text part in HTML, and the second part is to analyze the text and then find out the high frequency words.<br>\n",
    "    **part1**: <br>\n",
    "    1:import request package to get url. the main purpose is to take down the html of the original url. <br>\n",
    "    2:After the web crawler finishes, it will get the html of the original web page. <br>\n",
    "    3:import the beautifulsoap package to parse the original html. <br>\n",
    "    4:using beautifulsoap (html, feature= \"\") to get the dom structure of the page, use the method .decompose() in a for loop to filter out the js code. <br>\n",
    "    5:the rest of the text is integrated to get a text. <br>\n",
    "    **part2**: <br>\n",
    "    1:Use TF-IDF to extract keywords from the text, because only TF, There will be many common words, such as \"you\", \"I\", \"he\", \"she\". So IDF values are needed to measure how many documents in a document collection a word appears in.<br>\n",
    "    2:import nltk package,and list punctuation word. <br>\n",
    "    3:use nltk.word_tokenize to divide all the words into one by one. <br>\n",
    "    4:use .lower() convert all words to lowercase. <br>\n",
    "    5:check if the word is stopword and punctuation word. <br>\n",
    "    6:"
   ]
  },
  {
   "cell_type": "markdown",
   "id": "1daa0c10-75ad-4dff-9a78-3b3e73a882e8",
   "metadata": {},
   "source": [
    "<font color=#B6321C>\n",
    "    \n",
    "### RUBRIC\n",
    "\n",
    "<font color=black>\n",
    "\n",
    "A breakdown of the marking for this task:\n",
    "* <font color=#B6321C>[**5 marks**]<font color=black> the number of steps in your workflow\n",
    "* <font color=#B6321C>[**5 marks**]<font color=black> the granularity/detail of each step of the workflow\n",
    "* <font color=#B6321C>[**5 marks**]<font color=black> being able to anticipate potential problems, edge/corner cases, etc.\n",
    "\n"
   ]
  },
  {
   "cell_type": "markdown",
   "id": "8eb96f9c-c60e-4110-893f-8644e015ca4c",
   "metadata": {},
   "source": [
    "---\n",
    "\n",
    "\n",
    "<font color=darkred>\n",
    "    \n",
    "# QUESTION: Evaluation\n",
    "\n",
    "<font color=black>\n",
    "    \n",
    "\n",
    "The task is *inserting punctuation correctly*, specifically *periods*.\n",
    "\n",
    "Following test data given to models to be evaluated:<font color=darkred>\n",
    "\n",
    "    My name is Mrs Walls Today is the first day of November And I want to tell you about the upcoming winter"
   ]
  },
  {
   "cell_type": "markdown",
   "id": "7908e72b-6d1e-4c5e-a8b9-4064e4edf832",
   "metadata": {},
   "source": [
    "<font color=black>\n",
    "The solution is:<font color=darkred>\n",
    "\n",
    "    My name is Mrs. Walls. Today is the first day of November. And I want to tell you about the upcoming winter.\n",
    "\n",
    "<font color=black>"
   ]
  },
  {
   "cell_type": "markdown",
   "id": "4254ae5d-c4dc-4577-99c6-73beffe9ea51",
   "metadata": {},
   "source": [
    "\\\n",
    "<font color=purple>Model$_1$<font color=black> submits the following as its answer. It correctly identifies the end of a sentence but cannot identify punctuation belonging to acronyms or abbreviations (e.g., *Mr.*, *U.S.A.*):\n",
    "\n",
    "    My name is Mrs Walls. Today is the first day of November. And I want to tell you about the upcoming winter."
   ]
  },
  {
   "cell_type": "markdown",
   "id": "a77259bb-8b83-4b28-8e1c-15ee51a096a2",
   "metadata": {},
   "source": [
    "<font color=purple>Model$_2$<font color=black> submits the following as its answer. It inserts a period only after the last word in the text:\n",
    "\n",
    "    My name is Mrs Walls Today is the first day of November And I want to tell you about the upcoming winter."
   ]
  },
  {
   "cell_type": "markdown",
   "id": "565c4fa3-78aa-4dc4-b803-03b00a29f350",
   "metadata": {},
   "source": [
    "<font color=purple>Model$_3$<font color=black> submits the following as its answer. It doesn't insert any punctuation:\n",
    "\n",
    "    My name is Mrs Walls Today is the first day of November And I want to tell you about the upcoming winter"
   ]
  },
  {
   "cell_type": "markdown",
   "id": "150d4696-5dbb-402a-8e7a-61fabd9aabc4",
   "metadata": {},
   "source": [
    "<font color=purple>Model$_4$<font color=black> submits the following as its answer. It inserts a period between every word pair:\n",
    "\n",
    "    My. name. is. Mrs. Walls. Today. is. the. first. day. of. November. And. I. want. to. tell. you. about. the. upcoming. winter."
   ]
  },
  {
   "cell_type": "markdown",
   "id": "8ca6e4b7-1373-45da-96c8-e4a933328ef7",
   "metadata": {},
   "source": [
    "Evaluate the models based on the following metrics/rubrics (for each rubric evaluate all 4 models):\n",
    "* there are 4 periods to be inserted. How many of the 4 periods were correctly inserted? (this evaluation is out of 4)\n",
    "* a period can be inserted in the spaces between each word pair and at the end of the text (there are 22 spaces). How many of the 22 spaces were correct? (this evaluation is out of 22)\n",
    "* there are 18 spaces where periods are **not** to be inserted. How many of the 18 spaces were correct in *not* having a period inserted? (this evaluation is out of 18)\n",
    "\n",
    "Discuss the performance of the four models based on the three rubrics."
   ]
  },
  {
   "cell_type": "markdown",
   "id": "5a25f5a3-b59e-467c-9c1b-fb1cdb588a33",
   "metadata": {},
   "source": [
    "Compute each model's **Precision**, **Recall**, and **F-Score** (refer to **Chapter 4.7** from the *Jurafsky & Martin* textbook for their definitions and example calculations).\n",
    "\n",
    "Create the **confusion matrix** comparing the **model's output** (predicted labels) and the **gold standard labels** (actual and correct labels from our dataset)."
   ]
  },
  {
   "cell_type": "markdown",
   "id": "1204ef0e-f80f-43af-a833-2ad3a32b24e3",
   "metadata": {},
   "source": [
    "<font color=gray>*YOUR DISCUSSION HERE*<font color=black>"
   ]
  },
  {
   "cell_type": "markdown",
   "id": "ba36072b-7b7f-4538-b5ec-f1f12ed563db",
   "metadata": {},
   "source": [
    "<font color=#B6321C>\n",
    "    \n",
    "### RUBRIC\n",
    "\n",
    "<font color=black>\n",
    "\n",
    "A breakdown of the marking for this task:\n",
    "* <font color=#B6321C>[**10 marks**]<font color=black> evaluation of models and discussion based on the three rubrics\n",
    "* <font color=#B6321C>[**10 marks**]<font color=black> coorectly calculating precision, recall, and F-score\n"
   ]
  }
 ],
 "metadata": {
  "kernelspec": {
   "display_name": "Python 3 (ipykernel)",
   "language": "python",
   "name": "python3"
  },
  "language_info": {
   "codemirror_mode": {
    "name": "ipython",
    "version": 3
   },
   "file_extension": ".py",
   "mimetype": "text/x-python",
   "name": "python",
   "nbconvert_exporter": "python",
   "pygments_lexer": "ipython3",
   "version": "3.9.12"
  }
 },
 "nbformat": 4,
 "nbformat_minor": 5
}
